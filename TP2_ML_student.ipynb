{
 "cells": [
  {
   "cell_type": "markdown",
   "metadata": {
    "id": "EaypzN3gWj7M"
   },
   "source": [
    "L'objectif de ce TP est de manipuler les modèles de régression linéaire simple et multiples:\n",
    "- Calcul des coefficients de la droite de regression lineaire\n",
    "- Calcul du coefficient de determination R2\n"
   ]
  },
  {
   "cell_type": "markdown",
   "metadata": {
    "id": "JVKmwxEc1bQg"
   },
   "source": [
    "### Regression lineaire simple"
   ]
  },
  {
   "cell_type": "markdown",
   "metadata": {
    "id": "LhCiPLCKX7tS"
   },
   "source": [
    "Question 1 : Charger le fichier Salary_Data.csv"
   ]
  },
  {
   "cell_type": "code",
   "execution_count": 45,
   "metadata": {
    "colab": {
     "base_uri": "https://localhost:8080/",
     "height": 990
    },
    "id": "11xP5hWDWihh",
    "outputId": "a89a0433-886b-489a-e8c5-040ee4aa29ae"
   },
   "outputs": [
    {
     "data": {
      "text/html": [
       "<div>\n",
       "<style scoped>\n",
       "    .dataframe tbody tr th:only-of-type {\n",
       "        vertical-align: middle;\n",
       "    }\n",
       "\n",
       "    .dataframe tbody tr th {\n",
       "        vertical-align: top;\n",
       "    }\n",
       "\n",
       "    .dataframe thead th {\n",
       "        text-align: right;\n",
       "    }\n",
       "</style>\n",
       "<table border=\"1\" class=\"dataframe\">\n",
       "  <thead>\n",
       "    <tr style=\"text-align: right;\">\n",
       "      <th></th>\n",
       "      <th>YearsExperience</th>\n",
       "      <th>Salary</th>\n",
       "    </tr>\n",
       "  </thead>\n",
       "  <tbody>\n",
       "    <tr>\n",
       "      <th>0</th>\n",
       "      <td>1.1</td>\n",
       "      <td>39343.0</td>\n",
       "    </tr>\n",
       "    <tr>\n",
       "      <th>1</th>\n",
       "      <td>1.3</td>\n",
       "      <td>46205.0</td>\n",
       "    </tr>\n",
       "    <tr>\n",
       "      <th>2</th>\n",
       "      <td>1.5</td>\n",
       "      <td>37731.0</td>\n",
       "    </tr>\n",
       "    <tr>\n",
       "      <th>3</th>\n",
       "      <td>2.0</td>\n",
       "      <td>43525.0</td>\n",
       "    </tr>\n",
       "    <tr>\n",
       "      <th>4</th>\n",
       "      <td>2.2</td>\n",
       "      <td>39891.0</td>\n",
       "    </tr>\n",
       "    <tr>\n",
       "      <th>5</th>\n",
       "      <td>2.9</td>\n",
       "      <td>56642.0</td>\n",
       "    </tr>\n",
       "    <tr>\n",
       "      <th>6</th>\n",
       "      <td>3.0</td>\n",
       "      <td>60150.0</td>\n",
       "    </tr>\n",
       "    <tr>\n",
       "      <th>7</th>\n",
       "      <td>3.2</td>\n",
       "      <td>54445.0</td>\n",
       "    </tr>\n",
       "    <tr>\n",
       "      <th>8</th>\n",
       "      <td>3.2</td>\n",
       "      <td>64445.0</td>\n",
       "    </tr>\n",
       "    <tr>\n",
       "      <th>9</th>\n",
       "      <td>3.7</td>\n",
       "      <td>57189.0</td>\n",
       "    </tr>\n",
       "    <tr>\n",
       "      <th>10</th>\n",
       "      <td>3.9</td>\n",
       "      <td>63218.0</td>\n",
       "    </tr>\n",
       "    <tr>\n",
       "      <th>11</th>\n",
       "      <td>4.0</td>\n",
       "      <td>55794.0</td>\n",
       "    </tr>\n",
       "    <tr>\n",
       "      <th>12</th>\n",
       "      <td>4.0</td>\n",
       "      <td>56957.0</td>\n",
       "    </tr>\n",
       "    <tr>\n",
       "      <th>13</th>\n",
       "      <td>4.1</td>\n",
       "      <td>57081.0</td>\n",
       "    </tr>\n",
       "    <tr>\n",
       "      <th>14</th>\n",
       "      <td>4.5</td>\n",
       "      <td>61111.0</td>\n",
       "    </tr>\n",
       "    <tr>\n",
       "      <th>15</th>\n",
       "      <td>4.9</td>\n",
       "      <td>67938.0</td>\n",
       "    </tr>\n",
       "    <tr>\n",
       "      <th>16</th>\n",
       "      <td>5.1</td>\n",
       "      <td>66029.0</td>\n",
       "    </tr>\n",
       "    <tr>\n",
       "      <th>17</th>\n",
       "      <td>5.3</td>\n",
       "      <td>83088.0</td>\n",
       "    </tr>\n",
       "    <tr>\n",
       "      <th>18</th>\n",
       "      <td>5.9</td>\n",
       "      <td>81363.0</td>\n",
       "    </tr>\n",
       "    <tr>\n",
       "      <th>19</th>\n",
       "      <td>6.0</td>\n",
       "      <td>93940.0</td>\n",
       "    </tr>\n",
       "    <tr>\n",
       "      <th>20</th>\n",
       "      <td>6.8</td>\n",
       "      <td>91738.0</td>\n",
       "    </tr>\n",
       "    <tr>\n",
       "      <th>21</th>\n",
       "      <td>7.1</td>\n",
       "      <td>98273.0</td>\n",
       "    </tr>\n",
       "    <tr>\n",
       "      <th>22</th>\n",
       "      <td>7.9</td>\n",
       "      <td>101302.0</td>\n",
       "    </tr>\n",
       "    <tr>\n",
       "      <th>23</th>\n",
       "      <td>8.2</td>\n",
       "      <td>113812.0</td>\n",
       "    </tr>\n",
       "    <tr>\n",
       "      <th>24</th>\n",
       "      <td>8.7</td>\n",
       "      <td>109431.0</td>\n",
       "    </tr>\n",
       "    <tr>\n",
       "      <th>25</th>\n",
       "      <td>9.0</td>\n",
       "      <td>105582.0</td>\n",
       "    </tr>\n",
       "    <tr>\n",
       "      <th>26</th>\n",
       "      <td>9.5</td>\n",
       "      <td>116969.0</td>\n",
       "    </tr>\n",
       "    <tr>\n",
       "      <th>27</th>\n",
       "      <td>9.6</td>\n",
       "      <td>112635.0</td>\n",
       "    </tr>\n",
       "    <tr>\n",
       "      <th>28</th>\n",
       "      <td>10.3</td>\n",
       "      <td>122391.0</td>\n",
       "    </tr>\n",
       "    <tr>\n",
       "      <th>29</th>\n",
       "      <td>10.5</td>\n",
       "      <td>121872.0</td>\n",
       "    </tr>\n",
       "  </tbody>\n",
       "</table>\n",
       "</div>"
      ],
      "text/plain": [
       "    YearsExperience    Salary\n",
       "0               1.1   39343.0\n",
       "1               1.3   46205.0\n",
       "2               1.5   37731.0\n",
       "3               2.0   43525.0\n",
       "4               2.2   39891.0\n",
       "5               2.9   56642.0\n",
       "6               3.0   60150.0\n",
       "7               3.2   54445.0\n",
       "8               3.2   64445.0\n",
       "9               3.7   57189.0\n",
       "10              3.9   63218.0\n",
       "11              4.0   55794.0\n",
       "12              4.0   56957.0\n",
       "13              4.1   57081.0\n",
       "14              4.5   61111.0\n",
       "15              4.9   67938.0\n",
       "16              5.1   66029.0\n",
       "17              5.3   83088.0\n",
       "18              5.9   81363.0\n",
       "19              6.0   93940.0\n",
       "20              6.8   91738.0\n",
       "21              7.1   98273.0\n",
       "22              7.9  101302.0\n",
       "23              8.2  113812.0\n",
       "24              8.7  109431.0\n",
       "25              9.0  105582.0\n",
       "26              9.5  116969.0\n",
       "27              9.6  112635.0\n",
       "28             10.3  122391.0\n",
       "29             10.5  121872.0"
      ]
     },
     "execution_count": 45,
     "metadata": {},
     "output_type": "execute_result"
    }
   ],
   "source": [
    "import pandas as pd \n",
    "\n",
    "Salary = pd.read_csv('Salary_Data.csv')\n",
    "Salary "
   ]
  },
  {
   "cell_type": "markdown",
   "metadata": {
    "id": "5nK-O7HSf1WH"
   },
   "source": [
    "Question 2: Diviser la base de données en 2/3 Train et 1/3 Test"
   ]
  },
  {
   "cell_type": "code",
   "execution_count": 63,
   "metadata": {
    "colab": {
     "base_uri": "https://localhost:8080/"
    },
    "id": "wwAV9cz5ZGaT",
    "outputId": "becab93c-0d94-433f-b18c-412c033e23c0"
   },
   "outputs": [
    {
     "data": {
      "text/plain": [
       "((20,), (10,))"
      ]
     },
     "execution_count": 63,
     "metadata": {},
     "output_type": "execute_result"
    }
   ],
   "source": [
    "from sklearn.model_selection import train_test_split\n",
    "\n",
    "X = Salary.drop(['Salary'],axis = 1)\n",
    "y = Salary['Salary']\n",
    "\n",
    "X_train, X_test, y_train, y_test = train_test_split(Salary.YearsExperience, Salary.Salary, test_size = 0.33, random_state = 0)\n",
    "\n",
    "X_train.shape, X_test.shape"
   ]
  },
  {
   "cell_type": "markdown",
   "metadata": {
    "id": "Qfpb2-XupSVT"
   },
   "source": [
    "Question 3 : Représenter sous forme de nuages de points la variable dépendente Salary en fonction de la variable indépendente YearsExperience"
   ]
  },
  {
   "cell_type": "code",
   "execution_count": 64,
   "metadata": {
    "colab": {
     "base_uri": "https://localhost:8080/",
     "height": 467
    },
    "id": "kJD2grJco6r7",
    "outputId": "682be7bc-5086-4f1a-b2d2-d342a166bebd"
   },
   "outputs": [
    {
     "data": {
      "image/png": "[encoded data removed]",
      "text/plain": [
       "<Figure size 640x480 with 1 Axes>"
      ]
     },
     "metadata": {},
     "output_type": "display_data"
    }
   ],
   "source": [
    "import seaborn as sns\n",
    "from matplotlib import pyplot as plt \n",
    "\n",
    "\n",
    "sns.scatterplot(data = Salary.iloc[:20,:], x = 'YearsExperience', y = 'Salary' )\n",
    "\n",
    "\n",
    "plt.show()"
   ]
  },
  {
   "cell_type": "markdown",
   "metadata": {
    "id": "VebmPN0UvlLA"
   },
   "source": [
    "Question 4 : Calculer l'indice de correlation entre YearExperience et Salary"
   ]
  },
  {
   "cell_type": "code",
   "execution_count": 65,
   "metadata": {
    "colab": {
     "base_uri": "https://localhost:8080/"
    },
    "id": "yAclXHo9voou",
    "outputId": "73ce3cf7-761d-41fb-9008-0164c27bf742"
   },
   "outputs": [
    {
     "name": "stdout",
     "output_type": "stream",
     "text": [
      "Correlation entre YearsExperience & Salary : 0.9782416184887599\n"
     ]
    }
   ],
   "source": [
    "corr = Salary['YearsExperience'].corr(Salary['Salary'])\n",
    "print('Correlation entre YearsExperience & Salary :', corr)"
   ]
  },
  {
   "cell_type": "code",
   "execution_count": 66,
   "metadata": {},
   "outputs": [
    {
     "data": {
      "text/plain": [
       "0.9782416184887603"
      ]
     },
     "execution_count": 66,
     "metadata": {},
     "output_type": "execute_result"
    }
   ],
   "source": [
    "import numpy as np\n",
    "def correlation(X, y):\n",
    "    \n",
    "    return (np.mean(X*y) - np.mean(X) * np.mean(y)) / (np.std(X) * np.std(y)) \n",
    "\n",
    "corr = correlation(Salary.YearsExperience, Salary.Salary )\n",
    "corr"
   ]
  },
  {
   "cell_type": "markdown",
   "metadata": {
    "id": "RWy3JIctp0Br"
   },
   "source": [
    "Question 4 : Caculer les coefficients de la droite de régression en se basant sur la methode des moindres carres (Least Square Error)"
   ]
  },
  {
   "cell_type": "code",
   "execution_count": 69,
   "metadata": {
    "colab": {
     "base_uri": "https://localhost:8080/"
    },
    "id": "xYhcV92Mx6Wg",
    "outputId": "96ee389c-30cf-4d3e-c36c-432d12276ce5"
   },
   "outputs": [
    {
     "data": {
      "text/plain": [
       "9345.942443122372"
      ]
     },
     "execution_count": 69,
     "metadata": {},
     "output_type": "execute_result"
    }
   ],
   "source": [
    "coeff = (np.mean(X_train*y_train) - (np.mean(X_train) * np.mean(y_train)))  / np.var(X_train)\n",
    "\n",
    "intercept = np.mean(y_train)  - coeff * np.mean(X_train)\n",
    "coeff"
   ]
  },
  {
   "cell_type": "markdown",
   "metadata": {
    "id": "cBGnl3IvV3j2"
   },
   "source": [
    "Question 5 : Calculer les coefficients de la droite de regression lineaire en utilisant la librairie sickit-learn"
   ]
  },
  {
   "cell_type": "code",
   "execution_count": 31,
   "metadata": {
    "colab": {
     "base_uri": "https://localhost:8080/"
    },
    "id": "uOzEEf6gWDh4",
    "outputId": "f612c6a2-f210-44e2-b94a-5665887c21ed"
   },
   "outputs": [
    {
     "data": {
      "text/plain": [
       "(array([9345.94244312]), 26816.19224403119)"
      ]
     },
     "execution_count": 31,
     "metadata": {},
     "output_type": "execute_result"
    }
   ],
   "source": [
    "from sklearn.linear_model import LinearRegression \n",
    "\n",
    "model = LinearRegression()\n",
    "\n",
    "model.fit(X_train, y_train)\n",
    "\n",
    "\n",
    "b0 = model.coef_ \n",
    "b1 = model.intercept_\n",
    "\n",
    "b0, b1"
   ]
  },
  {
   "cell_type": "markdown",
   "metadata": {
    "id": "0k6_tqzzxsA1"
   },
   "source": [
    "Question 6 : Afficher la droite de regression lineaire"
   ]
  },
  {
   "cell_type": "code",
   "execution_count": 90,
   "metadata": {
    "colab": {
     "base_uri": "https://localhost:8080/",
     "height": 430
    },
    "id": "DCDArCUEwjxl",
    "outputId": "fb62d749-745d-4bfa-a81d-b173e976958a"
   },
   "outputs": [
    {
     "data": {
      "image/png": "[encoded data removed]",
      "text/plain": [
       "<Figure size 640x480 with 1 Axes>"
      ]
     },
     "metadata": {},
     "output_type": "display_data"
    }
   ],
   "source": [
    "F = b0 * X_train + b1\n",
    "plt.scatter(X_train, y_train )\n",
    "plt.scatter(X_train, F, c='r')\n",
    "plt.plot(X_train, F, c='r')\n",
    "plt.show()\n"
   ]
  },
  {
   "cell_type": "markdown",
   "metadata": {
    "id": "h8weVeaupsgM"
   },
   "source": [
    "Question 7 : Calculer le coefficient de determination R-squared (R2=1 - SSE/SST) sur la base d'apprentissage puis sur la base de test"
   ]
  },
  {
   "cell_type": "code",
   "execution_count": 70,
   "metadata": {
    "colab": {
     "base_uri": "https://localhost:8080/"
    },
    "id": "iEvny_7UpwrT",
    "outputId": "8303908a-ddb8-45ef-91af-424d986f53d1"
   },
   "outputs": [
    {
     "data": {
      "text/plain": [
       "0.9749154407708353"
      ]
     },
     "execution_count": 70,
     "metadata": {},
     "output_type": "execute_result"
    }
   ],
   "source": [
    "# ssr = sum of square of residuals (somme des carrés des résidus)\n",
    "SSR = np.sum((y_pred - y_test)**2)\n",
    "#  sst = total sum of squares (somme totale des carrés)\n",
    "SST = np.sum((y_test - np.mean(y_test))**2)\n",
    "# Score R2\n",
    "R2_score = 1 - (SSR/SST)\n",
    "\n",
    "R2_score"
   ]
  },
  {
   "cell_type": "markdown",
   "metadata": {
    "id": "mh7lQd6ojX3u"
   },
   "source": [
    "Question 8 : Calculer le coefficient de determination R2 en utilisant la librairie sickit-learn sur la base d'apprentissage puis de test"
   ]
  },
  {
   "cell_type": "code",
   "execution_count": 76,
   "metadata": {},
   "outputs": [],
   "source": [
    "import warnings\n",
    "warnings.filterwarnings(\"ignore\")"
   ]
  },
  {
   "cell_type": "code",
   "execution_count": 77,
   "metadata": {
    "colab": {
     "base_uri": "https://localhost:8080/"
    },
    "id": "kGfeztyFfn98",
    "outputId": "14b877c6-5c46-4938-d621-1fba973558fa"
   },
   "outputs": [
    {
     "data": {
      "text/plain": [
       "0.9749154407708353"
      ]
     },
     "execution_count": 77,
     "metadata": {},
     "output_type": "execute_result"
    }
   ],
   "source": [
    "from sklearn.metrics import r2_score\n",
    "\n",
    "y_pred = model.predict(X_test.to_numpy().reshape(-1,1))\n",
    "\n",
    "r2 = r2_score(y_test.to_numpy().reshape(-1,1), y_pred)\n",
    "r2"
   ]
  },
  {
   "cell_type": "markdown",
   "metadata": {
    "id": "4IR7X9S-1kh6"
   },
   "source": [
    "### Regression lineaire multiple"
   ]
  },
  {
   "cell_type": "markdown",
   "metadata": {
    "id": "ztFiXOyR1p6Q"
   },
   "source": [
    "Question 1: Charger le fichier 50_startups.csv\n",
    "- La variable Profit est la variable dépendente\n",
    "- La base ne contient aucune valeur manquante"
   ]
  },
  {
   "cell_type": "code",
   "execution_count": 155,
   "metadata": {
    "colab": {
     "base_uri": "https://localhost:8080/",
     "height": 206
    },
    "id": "s4WwWHCR1nLH",
    "outputId": "8d68d643-7fc7-496f-8f69-dc910f8c3bde"
   },
   "outputs": [
    {
     "data": {
      "text/html": [
       "<div>\n",
       "<style scoped>\n",
       "    .dataframe tbody tr th:only-of-type {\n",
       "        vertical-align: middle;\n",
       "    }\n",
       "\n",
       "    .dataframe tbody tr th {\n",
       "        vertical-align: top;\n",
       "    }\n",
       "\n",
       "    .dataframe thead th {\n",
       "        text-align: right;\n",
       "    }\n",
       "</style>\n",
       "<table border=\"1\" class=\"dataframe\">\n",
       "  <thead>\n",
       "    <tr style=\"text-align: right;\">\n",
       "      <th></th>\n",
       "      <th>R&amp;D Spend</th>\n",
       "      <th>Administration</th>\n",
       "      <th>Marketing Spend</th>\n",
       "      <th>State</th>\n",
       "      <th>Profit</th>\n",
       "    </tr>\n",
       "  </thead>\n",
       "  <tbody>\n",
       "    <tr>\n",
       "      <th>0</th>\n",
       "      <td>165349.20</td>\n",
       "      <td>136897.80</td>\n",
       "      <td>471784.10</td>\n",
       "      <td>New York</td>\n",
       "      <td>192261.83</td>\n",
       "    </tr>\n",
       "    <tr>\n",
       "      <th>1</th>\n",
       "      <td>162597.70</td>\n",
       "      <td>151377.59</td>\n",
       "      <td>443898.53</td>\n",
       "      <td>California</td>\n",
       "      <td>191792.06</td>\n",
       "    </tr>\n",
       "    <tr>\n",
       "      <th>2</th>\n",
       "      <td>153441.51</td>\n",
       "      <td>101145.55</td>\n",
       "      <td>407934.54</td>\n",
       "      <td>Florida</td>\n",
       "      <td>191050.39</td>\n",
       "    </tr>\n",
       "    <tr>\n",
       "      <th>3</th>\n",
       "      <td>144372.41</td>\n",
       "      <td>118671.85</td>\n",
       "      <td>383199.62</td>\n",
       "      <td>New York</td>\n",
       "      <td>182901.99</td>\n",
       "    </tr>\n",
       "    <tr>\n",
       "      <th>4</th>\n",
       "      <td>142107.34</td>\n",
       "      <td>91391.77</td>\n",
       "      <td>366168.42</td>\n",
       "      <td>Florida</td>\n",
       "      <td>166187.94</td>\n",
       "    </tr>\n",
       "  </tbody>\n",
       "</table>\n",
       "</div>"
      ],
      "text/plain": [
       "   R&D Spend  Administration  Marketing Spend       State     Profit\n",
       "0  165349.20       136897.80        471784.10    New York  192261.83\n",
       "1  162597.70       151377.59        443898.53  California  191792.06\n",
       "2  153441.51       101145.55        407934.54     Florida  191050.39\n",
       "3  144372.41       118671.85        383199.62    New York  182901.99\n",
       "4  142107.34        91391.77        366168.42     Florida  166187.94"
      ]
     },
     "execution_count": 155,
     "metadata": {},
     "output_type": "execute_result"
    }
   ],
   "source": [
    "data = pd.read_csv('50_startups.csv')\n",
    "data.head()"
   ]
  },
  {
   "cell_type": "markdown",
   "metadata": {
    "id": "nSE_a3wJ_aKf"
   },
   "source": [
    "Question 2 : Appliquer les pretraitements nécessaires\n",
    "- Conversion des variables catégoriques en numériques"
   ]
  },
  {
   "cell_type": "code",
   "execution_count": 156,
   "metadata": {},
   "outputs": [
    {
     "data": {
      "text/plain": [
       "R&D Spend          float64\n",
       "Administration     float64\n",
       "Marketing Spend    float64\n",
       "State               object\n",
       "Profit             float64\n",
       "dtype: object"
      ]
     },
     "execution_count": 156,
     "metadata": {},
     "output_type": "execute_result"
    }
   ],
   "source": [
    "data.dtypes"
   ]
  },
  {
   "cell_type": "code",
   "execution_count": 157,
   "metadata": {
    "colab": {
     "base_uri": "https://localhost:8080/",
     "height": 206
    },
    "id": "-XNV5gcK_k09",
    "outputId": "29826f45-00df-4c7c-f57d-958a9b35f290"
   },
   "outputs": [
    {
     "data": {
      "text/html": [
       "<div>\n",
       "<style scoped>\n",
       "    .dataframe tbody tr th:only-of-type {\n",
       "        vertical-align: middle;\n",
       "    }\n",
       "\n",
       "    .dataframe tbody tr th {\n",
       "        vertical-align: top;\n",
       "    }\n",
       "\n",
       "    .dataframe thead th {\n",
       "        text-align: right;\n",
       "    }\n",
       "</style>\n",
       "<table border=\"1\" class=\"dataframe\">\n",
       "  <thead>\n",
       "    <tr style=\"text-align: right;\">\n",
       "      <th></th>\n",
       "      <th>R&amp;D Spend</th>\n",
       "      <th>Administration</th>\n",
       "      <th>Marketing Spend</th>\n",
       "      <th>State_Florida</th>\n",
       "      <th>State_New York</th>\n",
       "      <th>Profit</th>\n",
       "    </tr>\n",
       "  </thead>\n",
       "  <tbody>\n",
       "    <tr>\n",
       "      <th>0</th>\n",
       "      <td>165349.20</td>\n",
       "      <td>136897.80</td>\n",
       "      <td>471784.10</td>\n",
       "      <td>0</td>\n",
       "      <td>1</td>\n",
       "      <td>192261.83</td>\n",
       "    </tr>\n",
       "    <tr>\n",
       "      <th>1</th>\n",
       "      <td>162597.70</td>\n",
       "      <td>151377.59</td>\n",
       "      <td>443898.53</td>\n",
       "      <td>0</td>\n",
       "      <td>0</td>\n",
       "      <td>191792.06</td>\n",
       "    </tr>\n",
       "    <tr>\n",
       "      <th>2</th>\n",
       "      <td>153441.51</td>\n",
       "      <td>101145.55</td>\n",
       "      <td>407934.54</td>\n",
       "      <td>1</td>\n",
       "      <td>0</td>\n",
       "      <td>191050.39</td>\n",
       "    </tr>\n",
       "    <tr>\n",
       "      <th>3</th>\n",
       "      <td>144372.41</td>\n",
       "      <td>118671.85</td>\n",
       "      <td>383199.62</td>\n",
       "      <td>0</td>\n",
       "      <td>1</td>\n",
       "      <td>182901.99</td>\n",
       "    </tr>\n",
       "    <tr>\n",
       "      <th>4</th>\n",
       "      <td>142107.34</td>\n",
       "      <td>91391.77</td>\n",
       "      <td>366168.42</td>\n",
       "      <td>1</td>\n",
       "      <td>0</td>\n",
       "      <td>166187.94</td>\n",
       "    </tr>\n",
       "  </tbody>\n",
       "</table>\n",
       "</div>"
      ],
      "text/plain": [
       "   R&D Spend  Administration  Marketing Spend  State_Florida  State_New York  \\\n",
       "0  165349.20       136897.80        471784.10              0               1   \n",
       "1  162597.70       151377.59        443898.53              0               0   \n",
       "2  153441.51       101145.55        407934.54              1               0   \n",
       "3  144372.41       118671.85        383199.62              0               1   \n",
       "4  142107.34        91391.77        366168.42              1               0   \n",
       "\n",
       "      Profit  \n",
       "0  192261.83  \n",
       "1  191792.06  \n",
       "2  191050.39  \n",
       "3  182901.99  \n",
       "4  166187.94  "
      ]
     },
     "execution_count": 157,
     "metadata": {},
     "output_type": "execute_result"
    }
   ],
   "source": [
    "data = pd.get_dummies(data, drop_first = True) \n",
    "data = data.reindex(columns = ['R&D Spend', 'Administration', 'Marketing Spend','State_Florida', 'State_New York','Profit'])\n",
    "data.head()"
   ]
  },
  {
   "cell_type": "markdown",
   "metadata": {
    "id": "sHWi3NMrGjsZ"
   },
   "source": [
    "Question 3 : Diviser la base de données en train (80%) et test (20%)"
   ]
  },
  {
   "cell_type": "code",
   "execution_count": 158,
   "metadata": {
    "colab": {
     "base_uri": "https://localhost:8080/"
    },
    "id": "0ndkikmzGuM2",
    "outputId": "34062161-5603-4c76-b4e0-45a0f809a54e"
   },
   "outputs": [
    {
     "data": {
      "text/plain": [
       "((40, 5), (10, 5), (40,), (10,))"
      ]
     },
     "execution_count": 158,
     "metadata": {},
     "output_type": "execute_result"
    }
   ],
   "source": [
    "from sklearn.model_selection import train_test_split\n",
    "\n",
    "X_train, X_test, y_train, y_test = train_test_split(data[['R&D Spend', 'Administration', 'Marketing Spend','State_Florida', 'State_New York']], data.Profit, test_size = 0.2)\n",
    "\n",
    "X_train.shape, X_test.shape, y_train.shape, y_test.shape"
   ]
  },
  {
   "cell_type": "markdown",
   "metadata": {
    "id": "isKKplejIOZv"
   },
   "source": [
    "Question 4:\n",
    "* Executer l'apprentissage du modèle de regression lineaire et calculer la prediction sur la base de test\n",
    "* Calculer le coefficient R-squared\n",
    "* Afficher les variables y_test et y_pred dans un nouveau Dataframe df_pred"
   ]
  },
  {
   "cell_type": "code",
   "execution_count": 159,
   "metadata": {
    "colab": {
     "base_uri": "https://localhost:8080/",
     "height": 381
    },
    "id": "w6oAD_OoHiK0",
    "outputId": "487ca6f7-be8f-4f64-9843-ceb940e3e332"
   },
   "outputs": [
    {
     "data": {
      "text/html": [
       "<div>\n",
       "<style scoped>\n",
       "    .dataframe tbody tr th:only-of-type {\n",
       "        vertical-align: middle;\n",
       "    }\n",
       "\n",
       "    .dataframe tbody tr th {\n",
       "        vertical-align: top;\n",
       "    }\n",
       "\n",
       "    .dataframe thead th {\n",
       "        text-align: right;\n",
       "    }\n",
       "</style>\n",
       "<table border=\"1\" class=\"dataframe\">\n",
       "  <thead>\n",
       "    <tr style=\"text-align: right;\">\n",
       "      <th></th>\n",
       "      <th>y_test</th>\n",
       "      <th>y_pred</th>\n",
       "    </tr>\n",
       "  </thead>\n",
       "  <tbody>\n",
       "    <tr>\n",
       "      <th>8</th>\n",
       "      <td>152211.77</td>\n",
       "      <td>151659.176823</td>\n",
       "    </tr>\n",
       "    <tr>\n",
       "      <th>14</th>\n",
       "      <td>132602.65</td>\n",
       "      <td>149952.234181</td>\n",
       "    </tr>\n",
       "    <tr>\n",
       "      <th>2</th>\n",
       "      <td>191050.39</td>\n",
       "      <td>182235.754532</td>\n",
       "    </tr>\n",
       "    <tr>\n",
       "      <th>41</th>\n",
       "      <td>77798.83</td>\n",
       "      <td>75954.836201</td>\n",
       "    </tr>\n",
       "    <tr>\n",
       "      <th>43</th>\n",
       "      <td>69758.98</td>\n",
       "      <td>61525.503484</td>\n",
       "    </tr>\n",
       "    <tr>\n",
       "      <th>48</th>\n",
       "      <td>35673.41</td>\n",
       "      <td>51370.812339</td>\n",
       "    </tr>\n",
       "    <tr>\n",
       "      <th>21</th>\n",
       "      <td>111313.02</td>\n",
       "      <td>117032.744320</td>\n",
       "    </tr>\n",
       "    <tr>\n",
       "      <th>0</th>\n",
       "      <td>192261.83</td>\n",
       "      <td>191732.254643</td>\n",
       "    </tr>\n",
       "    <tr>\n",
       "      <th>13</th>\n",
       "      <td>134307.35</td>\n",
       "      <td>126665.166273</td>\n",
       "    </tr>\n",
       "    <tr>\n",
       "      <th>32</th>\n",
       "      <td>97427.84</td>\n",
       "      <td>99449.974600</td>\n",
       "    </tr>\n",
       "  </tbody>\n",
       "</table>\n",
       "</div>"
      ],
      "text/plain": [
       "       y_test         y_pred\n",
       "8   152211.77  151659.176823\n",
       "14  132602.65  149952.234181\n",
       "2   191050.39  182235.754532\n",
       "41   77798.83   75954.836201\n",
       "43   69758.98   61525.503484\n",
       "48   35673.41   51370.812339\n",
       "21  111313.02  117032.744320\n",
       "0   192261.83  191732.254643\n",
       "13  134307.35  126665.166273\n",
       "32   97427.84   99449.974600"
      ]
     },
     "execution_count": 159,
     "metadata": {},
     "output_type": "execute_result"
    }
   ],
   "source": [
    "from sklearn.linear_model import LinearRegression \n",
    "\n",
    "Model = LinearRegression()\n",
    "Model.fit(X_train, y_train )\n",
    "\n",
    "y_pred = Model.predict(X_test)\n",
    "\n",
    "df = pd.DataFrame({'y_test':y_test,'y_pred':y_pred})\n",
    "df"
   ]
  },
  {
   "cell_type": "markdown",
   "metadata": {
    "id": "5-5ys_nlg0f3"
   },
   "source": [
    "Question 5 : En utilisant sklearn, calculer les coefficients (b0, b1, b2, b3, b4, b5) de la régression lineaire multiple"
   ]
  },
  {
   "cell_type": "code",
   "execution_count": 160,
   "metadata": {},
   "outputs": [
    {
     "data": {
      "text/plain": [
       "(51697.19903224062,\n",
       " 0.8113427977962265,\n",
       " -0.0359200063214926,\n",
       " 0.020571069886015803,\n",
       " 1286.3903419719968,\n",
       " 1092.4392183237203)"
      ]
     },
     "execution_count": 160,
     "metadata": {},
     "output_type": "execute_result"
    }
   ],
   "source": [
    "b0 = Model.intercept_\n",
    "b1, b2, b3, b4, b5 = Model.coef_\n",
    "b0, b1, b2, b3, b4, b5"
   ]
  },
  {
   "cell_type": "markdown",
   "metadata": {
    "id": "mymxF4uJe8RI"
   },
   "source": [
    "Question 6 : Utiliser **statsmodels.api** pour calculer la valeur p_value de chaque variable independente"
   ]
  },
  {
   "cell_type": "code",
   "execution_count": 164,
   "metadata": {
    "colab": {
     "base_uri": "https://localhost:8080/"
    },
    "id": "9B2GqeC06Z75",
    "outputId": "0cea1439-55b0-4323-f3eb-b91edd715511"
   },
   "outputs": [
    {
     "name": "stdout",
     "output_type": "stream",
     "text": [
      "                            OLS Regression Results                            \n",
      "==============================================================================\n",
      "Dep. Variable:                 Profit   R-squared:                       0.951\n",
      "Model:                            OLS   Adj. R-squared:                  0.945\n",
      "Method:                 Least Squares   F-statistic:                     169.9\n",
      "Date:                Mon, 09 Oct 2023   Prob (F-statistic):           1.34e-27\n",
      "Time:                        16:26:15   Log-Likelihood:                -525.38\n",
      "No. Observations:                  50   AIC:                             1063.\n",
      "Df Residuals:                      44   BIC:                             1074.\n",
      "Df Model:                           5                                         \n",
      "Covariance Type:            nonrobust                                         \n",
      "===================================================================================\n",
      "                      coef    std err          t      P>|t|      [0.025      0.975]\n",
      "-----------------------------------------------------------------------------------\n",
      "const            5.013e+04   6884.820      7.281      0.000    3.62e+04     6.4e+04\n",
      "R&D Spend           0.8060      0.046     17.369      0.000       0.712       0.900\n",
      "Administration     -0.0270      0.052     -0.517      0.608      -0.132       0.078\n",
      "Marketing Spend     0.0270      0.017      1.574      0.123      -0.008       0.062\n",
      "State_Florida     198.7888   3371.007      0.059      0.953   -6595.030    6992.607\n",
      "State_New York    -41.8870   3256.039     -0.013      0.990   -6604.003    6520.229\n",
      "==============================================================================\n",
      "Omnibus:                       14.782   Durbin-Watson:                   1.283\n",
      "Prob(Omnibus):                  0.001   Jarque-Bera (JB):               21.266\n",
      "Skew:                          -0.948   Prob(JB):                     2.41e-05\n",
      "Kurtosis:                       5.572   Cond. No.                     1.45e+06\n",
      "==============================================================================\n",
      "\n",
      "Notes:\n",
      "[1] Standard Errors assume that the covariance matrix of the errors is correctly specified.\n",
      "[2] The condition number is large, 1.45e+06. This might indicate that there are\n",
      "strong multicollinearity or other numerical problems.\n"
     ]
    }
   ],
   "source": [
    "import statsmodels.api as sm\n",
    "X = data[['R&D Spend', 'Administration', 'Marketing Spend','State_Florida', 'State_New York']]\n",
    "y = data.Profit\n",
    "X_sm = sm.add_constant(X)\n",
    "\n",
    "\n",
    "model_sm = sm.OLS(y, X_sm).fit()\n",
    "print(model_sm.summary())\n"
   ]
  },
  {
   "cell_type": "markdown",
   "metadata": {
    "id": "t4uYlN0Zfdnl"
   },
   "source": [
    "Question 7 : En se basant sur la methode d'elimination Backward, garder uniquement les variables independente qui ont une valeur de p_value < 0.05"
   ]
  },
  {
   "cell_type": "code",
   "execution_count": null,
   "metadata": {
    "colab": {
     "base_uri": "https://localhost:8080/"
    },
    "id": "V9NgdBqS6rBv",
    "outputId": "f642d282-f071-44ab-9603-a48c55d8a5a3",
    "scrolled": true
   },
   "outputs": [
    {
     "name": "stdout",
     "output_type": "stream",
     "text": [
      "                            OLS Regression Results                            \n",
      "==============================================================================\n",
      "Dep. Variable:                 Profit   R-squared:                       0.951\n",
      "Model:                            OLS   Adj. R-squared:                  0.945\n",
      "Method:                 Least Squares   F-statistic:                     169.9\n",
      "Date:                Wed, 27 Sep 2023   Prob (F-statistic):           1.34e-27\n",
      "Time:                        22:09:53   Log-Likelihood:                -525.38\n",
      "No. Observations:                  50   AIC:                             1063.\n",
      "Df Residuals:                      44   BIC:                             1074.\n",
      "Df Model:                           5                                         \n",
      "Covariance Type:            nonrobust                                         \n",
      "===================================================================================\n",
      "                      coef    std err          t      P>|t|      [0.025      0.975]\n",
      "-----------------------------------------------------------------------------------\n",
      "Const            5.013e+04   6884.820      7.281      0.000    3.62e+04     6.4e+04\n",
      "R&D Spend           0.8060      0.046     17.369      0.000       0.712       0.900\n",
      "Administration     -0.0270      0.052     -0.517      0.608      -0.132       0.078\n",
      "Marketing Spend     0.0270      0.017      1.574      0.123      -0.008       0.062\n",
      "State_Florida     198.7888   3371.007      0.059      0.953   -6595.030    6992.607\n",
      "State_New York    -41.8870   3256.039     -0.013      0.990   -6604.003    6520.229\n",
      "==============================================================================\n",
      "Omnibus:                       14.782   Durbin-Watson:                   1.283\n",
      "Prob(Omnibus):                  0.001   Jarque-Bera (JB):               21.266\n",
      "Skew:                          -0.948   Prob(JB):                     2.41e-05\n",
      "Kurtosis:                       5.572   Cond. No.                     1.45e+06\n",
      "==============================================================================\n",
      "\n",
      "Notes:\n",
      "[1] Standard Errors assume that the covariance matrix of the errors is correctly specified.\n",
      "[2] The condition number is large, 1.45e+06. This might indicate that there are\n",
      "strong multicollinearity or other numerical problems.\n",
      "3\n",
      "Variable à supprimer est 3\n",
      "                            OLS Regression Results                            \n",
      "==============================================================================\n",
      "Dep. Variable:                 Profit   R-squared:                       0.948\n",
      "Model:                            OLS   Adj. R-squared:                  0.943\n",
      "Method:                 Least Squares   F-statistic:                     205.0\n",
      "Date:                Wed, 27 Sep 2023   Prob (F-statistic):           2.90e-28\n",
      "Time:                        22:09:53   Log-Likelihood:                -526.75\n",
      "No. Observations:                  50   AIC:                             1064.\n",
      "Df Residuals:                      45   BIC:                             1073.\n",
      "Df Model:                           4                                         \n",
      "Covariance Type:            nonrobust                                         \n",
      "==================================================================================\n",
      "                     coef    std err          t      P>|t|      [0.025      0.975]\n",
      "----------------------------------------------------------------------------------\n",
      "Const            5.46e+04   6371.060      8.571      0.000    4.18e+04    6.74e+04\n",
      "R&D Spend          0.8609      0.031     27.665      0.000       0.798       0.924\n",
      "Administration    -0.0527      0.050     -1.045      0.301      -0.154       0.049\n",
      "State_Florida   1091.1075   3377.087      0.323      0.748   -5710.695    7892.910\n",
      "State_New York   -39.3434   3309.047     -0.012      0.991   -6704.106    6625.420\n",
      "==============================================================================\n",
      "Omnibus:                       14.275   Durbin-Watson:                   1.197\n",
      "Prob(Omnibus):                  0.001   Jarque-Bera (JB):               19.260\n",
      "Skew:                          -0.953   Prob(JB):                     6.57e-05\n",
      "Kurtosis:                       5.369   Cond. No.                     7.06e+05\n",
      "==============================================================================\n",
      "\n",
      "Notes:\n",
      "[1] Standard Errors assume that the covariance matrix of the errors is correctly specified.\n",
      "[2] The condition number is large, 7.06e+05. This might indicate that there are\n",
      "strong multicollinearity or other numerical problems.\n",
      "2\n",
      "Variable à supprimer est 2\n",
      "                            OLS Regression Results                            \n",
      "==============================================================================\n",
      "Dep. Variable:                 Profit   R-squared:                       0.947\n",
      "Model:                            OLS   Adj. R-squared:                  0.943\n",
      "Method:                 Least Squares   F-statistic:                     272.4\n",
      "Date:                Wed, 27 Sep 2023   Prob (F-statistic):           2.76e-29\n",
      "Time:                        22:09:53   Log-Likelihood:                -527.35\n",
      "No. Observations:                  50   AIC:                             1063.\n",
      "Df Residuals:                      46   BIC:                             1070.\n",
      "Df Model:                           3                                         \n",
      "Covariance Type:            nonrobust                                         \n",
      "==================================================================================\n",
      "                     coef    std err          t      P>|t|      [0.025      0.975]\n",
      "----------------------------------------------------------------------------------\n",
      "Const           4.875e+04   3040.118     16.036      0.000    4.26e+04    5.49e+04\n",
      "R&D Spend          0.8530      0.030     28.226      0.000       0.792       0.914\n",
      "State_Florida   1163.8663   3379.767      0.344      0.732   -5639.252    7966.985\n",
      "State_New York     9.5969   3312.045      0.003      0.998   -6657.204    6676.398\n",
      "==============================================================================\n",
      "Omnibus:                       13.418   Durbin-Watson:                   1.122\n",
      "Prob(Omnibus):                  0.001   Jarque-Bera (JB):               17.605\n",
      "Skew:                          -0.907   Prob(JB):                     0.000150\n",
      "Kurtosis:                       5.271   Cond. No.                     2.89e+05\n",
      "==============================================================================\n",
      "\n",
      "Notes:\n",
      "[1] Standard Errors assume that the covariance matrix of the errors is correctly specified.\n",
      "[2] The condition number is large, 2.89e+05. This might indicate that there are\n",
      "strong multicollinearity or other numerical problems.\n",
      "2\n",
      "Variable à supprimer est 2\n",
      "                            OLS Regression Results                            \n",
      "==============================================================================\n",
      "Dep. Variable:                 Profit   R-squared:                       0.947\n",
      "Model:                            OLS   Adj. R-squared:                  0.944\n",
      "Method:                 Least Squares   F-statistic:                     416.4\n",
      "Date:                Wed, 27 Sep 2023   Prob (F-statistic):           1.26e-30\n",
      "Time:                        22:09:53   Log-Likelihood:                -527.42\n",
      "No. Observations:                  50   AIC:                             1061.\n",
      "Df Residuals:                      47   BIC:                             1067.\n",
      "Df Model:                           2                                         \n",
      "Covariance Type:            nonrobust                                         \n",
      "==================================================================================\n",
      "                     coef    std err          t      P>|t|      [0.025      0.975]\n",
      "----------------------------------------------------------------------------------\n",
      "Const           4.921e+04   2710.820     18.152      0.000    4.38e+04    5.47e+04\n",
      "R&D Spend          0.8545      0.030     28.843      0.000       0.795       0.914\n",
      "State_New York  -560.3051   2841.908     -0.197      0.845   -6277.486    5156.876\n",
      "==============================================================================\n",
      "Omnibus:                       14.030   Durbin-Watson:                   1.127\n",
      "Prob(Omnibus):                  0.001   Jarque-Bera (JB):               19.472\n",
      "Skew:                          -0.916   Prob(JB):                     5.91e-05\n",
      "Kurtosis:                       5.448   Cond. No.                     2.06e+05\n",
      "==============================================================================\n",
      "\n",
      "Notes:\n",
      "[1] Standard Errors assume that the covariance matrix of the errors is correctly specified.\n",
      "[2] The condition number is large, 2.06e+05. This might indicate that there are\n",
      "strong multicollinearity or other numerical problems.\n",
      "2\n",
      "Variable à supprimer est 2\n",
      "                            OLS Regression Results                            \n",
      "==============================================================================\n",
      "Dep. Variable:                 Profit   R-squared:                       0.947\n",
      "Model:                            OLS   Adj. R-squared:                  0.945\n",
      "Method:                 Least Squares   F-statistic:                     849.8\n",
      "Date:                Wed, 27 Sep 2023   Prob (F-statistic):           3.50e-32\n",
      "Time:                        22:09:53   Log-Likelihood:                -527.44\n",
      "No. Observations:                  50   AIC:                             1059.\n",
      "Df Residuals:                      48   BIC:                             1063.\n",
      "Df Model:                           1                                         \n",
      "Covariance Type:            nonrobust                                         \n",
      "==============================================================================\n",
      "                 coef    std err          t      P>|t|      [0.025      0.975]\n",
      "------------------------------------------------------------------------------\n",
      "Const       4.903e+04   2537.897     19.320      0.000    4.39e+04    5.41e+04\n",
      "R&D Spend      0.8543      0.029     29.151      0.000       0.795       0.913\n",
      "==============================================================================\n",
      "Omnibus:                       13.727   Durbin-Watson:                   1.116\n",
      "Prob(Omnibus):                  0.001   Jarque-Bera (JB):               18.536\n",
      "Skew:                          -0.911   Prob(JB):                     9.44e-05\n",
      "Kurtosis:                       5.361   Cond. No.                     1.65e+05\n",
      "==============================================================================\n",
      "\n",
      "Notes:\n",
      "[1] Standard Errors assume that the covariance matrix of the errors is correctly specified.\n",
      "[2] The condition number is large, 1.65e+05. This might indicate that there are\n",
      "strong multicollinearity or other numerical problems.\n"
     ]
    }
   ],
   "source": []
  },
  {
   "cell_type": "code",
   "execution_count": 141,
   "metadata": {
    "id": "57lYkWj-tmaz"
   },
   "outputs": [
    {
     "name": "stdout",
     "output_type": "stream",
     "text": [
      "R-squared (filtered model): 0.9885338661816274\n"
     ]
    }
   ],
   "source": [
    "variables_to_keep = [var for var, p_value in zip(X_train.columns, p_values) if p_value < 0.05]\n",
    "\n",
    "X_train_filtered = X_train[variables_to_keep]\n",
    "\n",
    "Model.fit(X_train_filtered, y_train)\n",
    "\n",
    "y_pred_filtered = Model.predict(X_test[variables_to_keep])\n",
    "\n",
    "r_squared_filtered = r2_score(y_test, y_pred_filtered)\n",
    "\n",
    "print(\"R-squared (filtered model):\", r_squared_filtered)\n"
   ]
  },
  {
   "cell_type": "code",
   "execution_count": 162,
   "metadata": {
    "scrolled": false
   },
   "outputs": [
    {
     "name": "stdout",
     "output_type": "stream",
     "text": [
      "                            OLS Regression Results                            \n",
      "==============================================================================\n",
      "Dep. Variable:                 Profit   R-squared:                       0.943\n",
      "Model:                            OLS   Adj. R-squared:                  0.934\n",
      "Method:                 Least Squares   F-statistic:                     112.0\n",
      "Date:                Mon, 09 Oct 2023   Prob (F-statistic):           4.07e-20\n",
      "Time:                        15:54:11   Log-Likelihood:                -420.46\n",
      "No. Observations:                  40   AIC:                             852.9\n",
      "Df Residuals:                      34   BIC:                             863.1\n",
      "Df Model:                           5                                         \n",
      "Covariance Type:            nonrobust                                         \n",
      "===================================================================================\n",
      "                      coef    std err          t      P>|t|      [0.025      0.975]\n",
      "-----------------------------------------------------------------------------------\n",
      "const             5.17e+04   8853.777      5.839      0.000    3.37e+04    6.97e+04\n",
      "R&D Spend           0.8113      0.051     15.958      0.000       0.708       0.915\n",
      "Administration     -0.0359      0.064     -0.560      0.579      -0.166       0.094\n",
      "Marketing Spend     0.0206      0.020      1.023      0.313      -0.020       0.061\n",
      "State_Florida    1286.3903   3761.288      0.342      0.734   -6357.468    8930.248\n",
      "State_New York   1092.4392   3771.722      0.290      0.774   -6572.621    8757.500\n",
      "==============================================================================\n",
      "Omnibus:                       16.512   Durbin-Watson:                   1.867\n",
      "Prob(Omnibus):                  0.000   Jarque-Bera (JB):               26.442\n",
      "Skew:                          -1.090   Prob(JB):                     1.81e-06\n",
      "Kurtosis:                       6.334   Cond. No.                     1.58e+06\n",
      "==============================================================================\n",
      "\n",
      "Notes:\n",
      "[1] Standard Errors assume that the covariance matrix of the errors is correctly specified.\n",
      "[2] The condition number is large, 1.58e+06. This might indicate that there are\n",
      "strong multicollinearity or other numerical problems.\n",
      "                            OLS Regression Results                            \n",
      "==============================================================================\n",
      "Dep. Variable:                 Profit   R-squared:                       0.943\n",
      "Model:                            OLS   Adj. R-squared:                  0.936\n",
      "Method:                 Least Squares   F-statistic:                     143.8\n",
      "Date:                Mon, 09 Oct 2023   Prob (F-statistic):           3.30e-21\n",
      "Time:                        15:54:11   Log-Likelihood:                -420.51\n",
      "No. Observations:                  40   AIC:                             851.0\n",
      "Df Residuals:                      35   BIC:                             859.5\n",
      "Df Model:                           4                                         \n",
      "Covariance Type:            nonrobust                                         \n",
      "===================================================================================\n",
      "                      coef    std err          t      P>|t|      [0.025      0.975]\n",
      "-----------------------------------------------------------------------------------\n",
      "const            5.216e+04   8596.101      6.067      0.000    3.47e+04    6.96e+04\n",
      "R&D Spend           0.8133      0.050     16.349      0.000       0.712       0.914\n",
      "Administration     -0.0363      0.063     -0.573      0.570      -0.165       0.092\n",
      "Marketing Spend     0.0202      0.020      1.022      0.314      -0.020       0.060\n",
      "State_Florida     804.4197   3328.731      0.242      0.810   -5953.264    7562.103\n",
      "==============================================================================\n",
      "Omnibus:                       17.040   Durbin-Watson:                   1.873\n",
      "Prob(Omnibus):                  0.000   Jarque-Bera (JB):               29.011\n",
      "Skew:                          -1.091   Prob(JB):                     5.02e-07\n",
      "Kurtosis:                       6.556   Cond. No.                     1.55e+06\n",
      "==============================================================================\n",
      "\n",
      "Notes:\n",
      "[1] Standard Errors assume that the covariance matrix of the errors is correctly specified.\n",
      "[2] The condition number is large, 1.55e+06. This might indicate that there are\n",
      "strong multicollinearity or other numerical problems.\n",
      "                            OLS Regression Results                            \n",
      "==============================================================================\n",
      "Dep. Variable:                 Profit   R-squared:                       0.943\n",
      "Model:                            OLS   Adj. R-squared:                  0.938\n",
      "Method:                 Least Squares   F-statistic:                     196.9\n",
      "Date:                Mon, 09 Oct 2023   Prob (F-statistic):           2.21e-22\n",
      "Time:                        15:54:11   Log-Likelihood:                -420.55\n",
      "No. Observations:                  40   AIC:                             849.1\n",
      "Df Residuals:                      36   BIC:                             855.8\n",
      "Df Model:                           3                                         \n",
      "Covariance Type:            nonrobust                                         \n",
      "===================================================================================\n",
      "                      coef    std err          t      P>|t|      [0.025      0.975]\n",
      "-----------------------------------------------------------------------------------\n",
      "const            5.199e+04   8456.678      6.148      0.000    3.48e+04    6.91e+04\n",
      "R&D Spend           0.8118      0.049     16.658      0.000       0.713       0.911\n",
      "Administration     -0.0339      0.062     -0.550      0.586      -0.159       0.091\n",
      "Marketing Spend     0.0214      0.019      1.130      0.266      -0.017       0.060\n",
      "==============================================================================\n",
      "Omnibus:                       17.521   Durbin-Watson:                   1.896\n",
      "Prob(Omnibus):                  0.000   Jarque-Bera (JB):               30.737\n",
      "Skew:                          -1.109   Prob(JB):                     2.12e-07\n",
      "Kurtosis:                       6.677   Cond. No.                     1.54e+06\n",
      "==============================================================================\n",
      "\n",
      "Notes:\n",
      "[1] Standard Errors assume that the covariance matrix of the errors is correctly specified.\n",
      "[2] The condition number is large, 1.54e+06. This might indicate that there are\n",
      "strong multicollinearity or other numerical problems.\n",
      "                            OLS Regression Results                            \n",
      "==============================================================================\n",
      "Dep. Variable:                 Profit   R-squared:                       0.942\n",
      "Model:                            OLS   Adj. R-squared:                  0.939\n",
      "Method:                 Least Squares   F-statistic:                     300.8\n",
      "Date:                Mon, 09 Oct 2023   Prob (F-statistic):           1.30e-23\n",
      "Time:                        15:54:11   Log-Likelihood:                -420.71\n",
      "No. Observations:                  40   AIC:                             847.4\n",
      "Df Residuals:                      37   BIC:                             852.5\n",
      "Df Model:                           2                                         \n",
      "Covariance Type:            nonrobust                                         \n",
      "===================================================================================\n",
      "                      coef    std err          t      P>|t|      [0.025      0.975]\n",
      "-----------------------------------------------------------------------------------\n",
      "const             4.77e+04   3238.358     14.731      0.000    4.11e+04    5.43e+04\n",
      "R&D Spend           0.8020      0.045     17.857      0.000       0.711       0.893\n",
      "Marketing Spend     0.0257      0.017      1.498      0.143      -0.009       0.060\n",
      "==============================================================================\n",
      "Omnibus:                       16.670   Durbin-Watson:                   1.841\n",
      "Prob(Omnibus):                  0.000   Jarque-Bera (JB):               28.093\n",
      "Skew:                          -1.068   Prob(JB):                     7.94e-07\n",
      "Kurtosis:                       6.506   Cond. No.                     5.46e+05\n",
      "==============================================================================\n",
      "\n",
      "Notes:\n",
      "[1] Standard Errors assume that the covariance matrix of the errors is correctly specified.\n",
      "[2] The condition number is large, 5.46e+05. This might indicate that there are\n",
      "strong multicollinearity or other numerical problems.\n",
      "                            OLS Regression Results                            \n",
      "==============================================================================\n",
      "Dep. Variable:                 Profit   R-squared:                       0.939\n",
      "Model:                            OLS   Adj. R-squared:                  0.937\n",
      "Method:                 Least Squares   F-statistic:                     580.4\n",
      "Date:                Mon, 09 Oct 2023   Prob (F-statistic):           1.27e-24\n",
      "Time:                        15:54:11   Log-Likelihood:                -421.89\n",
      "No. Observations:                  40   AIC:                             847.8\n",
      "Df Residuals:                      38   BIC:                             851.2\n",
      "Df Model:                           1                                         \n",
      "Covariance Type:            nonrobust                                         \n",
      "==============================================================================\n",
      "                 coef    std err          t      P>|t|      [0.025      0.975]\n",
      "------------------------------------------------------------------------------\n",
      "const       4.997e+04   2911.300     17.162      0.000    4.41e+04    5.59e+04\n",
      "R&D Spend      0.8451      0.035     24.091      0.000       0.774       0.916\n",
      "==============================================================================\n",
      "Omnibus:                       16.752   Durbin-Watson:                   1.743\n",
      "Prob(Omnibus):                  0.000   Jarque-Bera (JB):               28.301\n",
      "Skew:                          -1.073   Prob(JB):                     7.15e-07\n",
      "Kurtosis:                       6.518   Cond. No.                     1.62e+05\n",
      "==============================================================================\n",
      "\n",
      "Notes:\n",
      "[1] Standard Errors assume that the covariance matrix of the errors is correctly specified.\n",
      "[2] The condition number is large, 1.62e+05. This might indicate that there are\n",
      "strong multicollinearity or other numerical problems.\n"
     ]
    }
   ],
   "source": [
    "\n",
    "eliminated_vars = []\n",
    "\n",
    "while True:\n",
    "    \n",
    "    model = sm.OLS(y_train, sm.add_constant(X_train))\n",
    "    results = model.fit()\n",
    "    print(results.summary())\n",
    "\n",
    "    p_values = results.pvalues[1:]  \n",
    "    \n",
    "    # Find the variable with the highest p-value\n",
    "    max_p_value = p_values.max()\n",
    "    if max_p_value > 0.05:\n",
    "        # Remove the variable with the highest p-value\n",
    "        var_to_remove = p_values.idxmax()\n",
    "        X_train = X_train.drop(var_to_remove, axis=1)\n",
    "        eliminated_vars.append(var_to_remove)\n",
    "    else:\n",
    "        break\n",
    "\n"
   ]
  },
  {
   "cell_type": "code",
   "execution_count": 145,
   "metadata": {},
   "outputs": [
    {
     "data": {
      "text/html": [
       "<table class=\"simpletable\">\n",
       "<caption>OLS Regression Results</caption>\n",
       "<tr>\n",
       "  <th>Dep. Variable:</th>         <td>Profit</td>      <th>  R-squared:         </th> <td>   0.936</td>\n",
       "</tr>\n",
       "<tr>\n",
       "  <th>Model:</th>                   <td>OLS</td>       <th>  Adj. R-squared:    </th> <td>   0.927</td>\n",
       "</tr>\n",
       "<tr>\n",
       "  <th>Method:</th>             <td>Least Squares</td>  <th>  F-statistic:       </th> <td>   99.47</td>\n",
       "</tr>\n",
       "<tr>\n",
       "  <th>Date:</th>             <td>Mon, 09 Oct 2023</td> <th>  Prob (F-statistic):</th> <td>2.70e-19</td>\n",
       "</tr>\n",
       "<tr>\n",
       "  <th>Time:</th>                 <td>15:41:00</td>     <th>  Log-Likelihood:    </th> <td> -423.97</td>\n",
       "</tr>\n",
       "<tr>\n",
       "  <th>No. Observations:</th>      <td>    40</td>      <th>  AIC:               </th> <td>   859.9</td>\n",
       "</tr>\n",
       "<tr>\n",
       "  <th>Df Residuals:</th>          <td>    34</td>      <th>  BIC:               </th> <td>   870.1</td>\n",
       "</tr>\n",
       "<tr>\n",
       "  <th>Df Model:</th>              <td>     5</td>      <th>                     </th>     <td> </td>   \n",
       "</tr>\n",
       "<tr>\n",
       "  <th>Covariance Type:</th>      <td>nonrobust</td>    <th>                     </th>     <td> </td>   \n",
       "</tr>\n",
       "</table>\n",
       "<table class=\"simpletable\">\n",
       "<tr>\n",
       "         <td></td>            <th>coef</th>     <th>std err</th>      <th>t</th>      <th>P>|t|</th>  <th>[0.025</th>    <th>0.975]</th>  \n",
       "</tr>\n",
       "<tr>\n",
       "  <th>const</th>           <td> 5.092e+04</td> <td> 8977.022</td> <td>    5.672</td> <td> 0.000</td> <td> 3.27e+04</td> <td> 6.92e+04</td>\n",
       "</tr>\n",
       "<tr>\n",
       "  <th>R&D Spend</th>       <td>    0.8156</td> <td>    0.054</td> <td>   15.023</td> <td> 0.000</td> <td>    0.705</td> <td>    0.926</td>\n",
       "</tr>\n",
       "<tr>\n",
       "  <th>Administration</th>  <td>   -0.0338</td> <td>    0.068</td> <td>   -0.494</td> <td> 0.625</td> <td>   -0.173</td> <td>    0.105</td>\n",
       "</tr>\n",
       "<tr>\n",
       "  <th>Marketing Spend</th> <td>    0.0204</td> <td>    0.021</td> <td>    0.969</td> <td> 0.339</td> <td>   -0.022</td> <td>    0.063</td>\n",
       "</tr>\n",
       "<tr>\n",
       "  <th>State_Florida</th>   <td> 1911.7040</td> <td> 4286.313</td> <td>    0.446</td> <td> 0.658</td> <td>-6799.133</td> <td> 1.06e+04</td>\n",
       "</tr>\n",
       "<tr>\n",
       "  <th>State_New York</th>  <td>  659.1000</td> <td> 4082.928</td> <td>    0.161</td> <td> 0.873</td> <td>-7638.408</td> <td> 8956.608</td>\n",
       "</tr>\n",
       "</table>\n",
       "<table class=\"simpletable\">\n",
       "<tr>\n",
       "  <th>Omnibus:</th>       <td>10.796</td> <th>  Durbin-Watson:     </th> <td>   1.749</td>\n",
       "</tr>\n",
       "<tr>\n",
       "  <th>Prob(Omnibus):</th> <td> 0.005</td> <th>  Jarque-Bera (JB):  </th> <td>  10.878</td>\n",
       "</tr>\n",
       "<tr>\n",
       "  <th>Skew:</th>          <td>-0.952</td> <th>  Prob(JB):          </th> <td> 0.00434</td>\n",
       "</tr>\n",
       "<tr>\n",
       "  <th>Kurtosis:</th>      <td> 4.702</td> <th>  Cond. No.          </th> <td>1.47e+06</td>\n",
       "</tr>\n",
       "</table><br/><br/>Notes:<br/>[1] Standard Errors assume that the covariance matrix of the errors is correctly specified.<br/>[2] The condition number is large, 1.47e+06. This might indicate that there are<br/>strong multicollinearity or other numerical problems."
      ],
      "text/latex": [
       "\\begin{center}\n",
       "\\begin{tabular}{lclc}\n",
       "\\toprule\n",
       "\\textbf{Dep. Variable:}    &      Profit      & \\textbf{  R-squared:         } &     0.936   \\\\\n",
       "\\textbf{Model:}            &       OLS        & \\textbf{  Adj. R-squared:    } &     0.927   \\\\\n",
       "\\textbf{Method:}           &  Least Squares   & \\textbf{  F-statistic:       } &     99.47   \\\\\n",
       "\\textbf{Date:}             & Mon, 09 Oct 2023 & \\textbf{  Prob (F-statistic):} &  2.70e-19   \\\\\n",
       "\\textbf{Time:}             &     15:41:00     & \\textbf{  Log-Likelihood:    } &   -423.97   \\\\\n",
       "\\textbf{No. Observations:} &          40      & \\textbf{  AIC:               } &     859.9   \\\\\n",
       "\\textbf{Df Residuals:}     &          34      & \\textbf{  BIC:               } &     870.1   \\\\\n",
       "\\textbf{Df Model:}         &           5      & \\textbf{                     } &             \\\\\n",
       "\\textbf{Covariance Type:}  &    nonrobust     & \\textbf{                     } &             \\\\\n",
       "\\bottomrule\n",
       "\\end{tabular}\n",
       "\\begin{tabular}{lcccccc}\n",
       "                         & \\textbf{coef} & \\textbf{std err} & \\textbf{t} & \\textbf{P$> |$t$|$} & \\textbf{[0.025} & \\textbf{0.975]}  \\\\\n",
       "\\midrule\n",
       "\\textbf{const}           &    5.092e+04  &     8977.022     &     5.672  &         0.000        &     3.27e+04    &     6.92e+04     \\\\\n",
       "\\textbf{R\\&D Spend}      &       0.8156  &        0.054     &    15.023  &         0.000        &        0.705    &        0.926     \\\\\n",
       "\\textbf{Administration}  &      -0.0338  &        0.068     &    -0.494  &         0.625        &       -0.173    &        0.105     \\\\\n",
       "\\textbf{Marketing Spend} &       0.0204  &        0.021     &     0.969  &         0.339        &       -0.022    &        0.063     \\\\\n",
       "\\textbf{State\\_Florida}  &    1911.7040  &     4286.313     &     0.446  &         0.658        &    -6799.133    &     1.06e+04     \\\\\n",
       "\\textbf{State\\_New York} &     659.1000  &     4082.928     &     0.161  &         0.873        &    -7638.408    &     8956.608     \\\\\n",
       "\\bottomrule\n",
       "\\end{tabular}\n",
       "\\begin{tabular}{lclc}\n",
       "\\textbf{Omnibus:}       & 10.796 & \\textbf{  Durbin-Watson:     } &    1.749  \\\\\n",
       "\\textbf{Prob(Omnibus):} &  0.005 & \\textbf{  Jarque-Bera (JB):  } &   10.878  \\\\\n",
       "\\textbf{Skew:}          & -0.952 & \\textbf{  Prob(JB):          } &  0.00434  \\\\\n",
       "\\textbf{Kurtosis:}      &  4.702 & \\textbf{  Cond. No.          } & 1.47e+06  \\\\\n",
       "\\bottomrule\n",
       "\\end{tabular}\n",
       "%\\caption{OLS Regression Results}\n",
       "\\end{center}\n",
       "\n",
       "Notes: \\newline\n",
       " [1] Standard Errors assume that the covariance matrix of the errors is correctly specified. \\newline\n",
       " [2] The condition number is large, 1.47e+06. This might indicate that there are \\newline\n",
       " strong multicollinearity or other numerical problems."
      ],
      "text/plain": [
       "<class 'statsmodels.iolib.summary.Summary'>\n",
       "\"\"\"\n",
       "                            OLS Regression Results                            \n",
       "==============================================================================\n",
       "Dep. Variable:                 Profit   R-squared:                       0.936\n",
       "Model:                            OLS   Adj. R-squared:                  0.927\n",
       "Method:                 Least Squares   F-statistic:                     99.47\n",
       "Date:                Mon, 09 Oct 2023   Prob (F-statistic):           2.70e-19\n",
       "Time:                        15:41:00   Log-Likelihood:                -423.97\n",
       "No. Observations:                  40   AIC:                             859.9\n",
       "Df Residuals:                      34   BIC:                             870.1\n",
       "Df Model:                           5                                         \n",
       "Covariance Type:            nonrobust                                         \n",
       "===================================================================================\n",
       "                      coef    std err          t      P>|t|      [0.025      0.975]\n",
       "-----------------------------------------------------------------------------------\n",
       "const            5.092e+04   8977.022      5.672      0.000    3.27e+04    6.92e+04\n",
       "R&D Spend           0.8156      0.054     15.023      0.000       0.705       0.926\n",
       "Administration     -0.0338      0.068     -0.494      0.625      -0.173       0.105\n",
       "Marketing Spend     0.0204      0.021      0.969      0.339      -0.022       0.063\n",
       "State_Florida    1911.7040   4286.313      0.446      0.658   -6799.133    1.06e+04\n",
       "State_New York    659.1000   4082.928      0.161      0.873   -7638.408    8956.608\n",
       "==============================================================================\n",
       "Omnibus:                       10.796   Durbin-Watson:                   1.749\n",
       "Prob(Omnibus):                  0.005   Jarque-Bera (JB):               10.878\n",
       "Skew:                          -0.952   Prob(JB):                      0.00434\n",
       "Kurtosis:                       4.702   Cond. No.                     1.47e+06\n",
       "==============================================================================\n",
       "\n",
       "Notes:\n",
       "[1] Standard Errors assume that the covariance matrix of the errors is correctly specified.\n",
       "[2] The condition number is large, 1.47e+06. This might indicate that there are\n",
       "strong multicollinearity or other numerical problems.\n",
       "\"\"\""
      ]
     },
     "execution_count": 145,
     "metadata": {},
     "output_type": "execute_result"
    }
   ],
   "source": [
    "model1 = sm.OLS(y_train, sm.add_constant(X_train))\n",
    "model1.fit().summary()"
   ]
  },
  {
   "cell_type": "code",
   "execution_count": null,
   "metadata": {},
   "outputs": [],
   "source": [
    "\n",
    "\n",
    "\n",
    "\n",
    "    "
   ]
  }
 ],
 "metadata": {
  "colab": {
   "provenance": []
  },
  "kernelspec": {
   "display_name": "Python 3 (ipykernel)",
   "language": "python",
   "name": "python3"
  },
  "language_info": {
   "codemirror_mode": {
    "name": "ipython",
    "version": 3
   },
   "file_extension": ".py",
   "mimetype": "text/x-python",
   "name": "python",
   "nbconvert_exporter": "python",
   "pygments_lexer": "ipython3",
   "version": "3.9.13"
  }
 },
 "nbformat": 4,
 "nbformat_minor": 1
}
